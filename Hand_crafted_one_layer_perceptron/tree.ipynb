{
 "cells": [
  {
   "cell_type": "code",
   "execution_count": 1,
   "metadata": {
    "collapsed": true
   },
   "outputs": [],
   "source": [
    "import numpy as np\n",
    "from sklearn.ensemble import RandomForestClassifier\n",
    "from xgboost import XGBClassifier\n",
    "from sklearn.model_selection import GridSearchCV"
   ]
  },
  {
   "cell_type": "markdown",
   "metadata": {},
   "source": [
    "# Random forest"
   ]
  },
  {
   "cell_type": "code",
   "execution_count": 3,
   "metadata": {
    "collapsed": true
   },
   "outputs": [],
   "source": [
    "train_x = np.load('images_feature/train_x.npy')\n",
    "train_y = np.load('images_feature/train_y.npy')\n",
    "train_y = np.argmax(train_y, axis=1)"
   ]
  },
  {
   "cell_type": "code",
   "execution_count": 4,
   "metadata": {
    "collapsed": true
   },
   "outputs": [],
   "source": [
    "test_x = np.load('images_feature/test_x.npy')\n",
    "test_y = np.load('images_feature/test_y.npy')\n",
    "test_y = np.argmax(test_y, axis=1)"
   ]
  },
  {
   "cell_type": "code",
   "execution_count": 5,
   "metadata": {},
   "outputs": [
    {
     "data": {
      "text/plain": [
       "RandomForestClassifier(bootstrap=False, max_depth=20, max_features=10,\n",
       "                       n_estimators=150, n_jobs=10, random_state=2020)"
      ]
     },
     "execution_count": 5,
     "metadata": {},
     "output_type": "execute_result"
    }
   ],
   "source": [
    "forest = RandomForestClassifier(criterion='gini', n_jobs=10, n_estimators = 150, max_features=10, max_depth=20, bootstrap=False, random_state=2020)\n",
    "# forest.fit(X_train, y_train)\n",
    "forest.fit(train_x, train_y)"
   ]
  },
  {
   "cell_type": "code",
   "execution_count": 6,
   "metadata": {
    "collapsed": true
   },
   "outputs": [],
   "source": [
    "y = forest.predict_proba(test_x)"
   ]
  },
  {
   "cell_type": "code",
   "execution_count": 66,
   "metadata": {},
   "outputs": [
    {
     "name": "stdout",
     "output_type": "stream",
     "text": [
      "Randomforest: top_1_accuracy 7.78 , top_5_accuracy 25.33%\n"
     ]
    }
   ],
   "source": [
    "k = 5\n",
    "y_k = y.argsort(axis=1)[:,-k:]\n",
    "top_k_accuracy_5 = (y_k == test_y.reshape(-1,1)).sum() / len(test_y)\n",
    "\n",
    "k = 1\n",
    "y_k = y.argsort(axis=1)[:,-k:]\n",
    "top_k_accuracy_1 = (y_k == test_y.reshape(-1,1)).sum() / len(test_y)\n",
    "\n",
    "print('Randomforest: top_1_accuracy %0.2f , top_5_accuracy %0.2f' % (top_k_accuracy_1 * 100, top_k_accuracy_5 * 100) + '%')"
   ]
  },
  {
   "cell_type": "markdown",
   "metadata": {},
   "source": [
    "# XGBoost"
   ]
  },
  {
   "cell_type": "code",
   "execution_count": null,
   "metadata": {},
   "outputs": [
    {
     "name": "stdout",
     "output_type": "stream",
     "text": [
      "[20:30:56] WARNING: ../src/learner.cc:1061: Starting in XGBoost 1.3.0, the default evaluation metric used with the objective 'multi:softprob' was changed from 'merror' to 'mlogloss'. Explicitly set eval_metric if you'd like to restore the old behavior.\n"
     ]
    }
   ],
   "source": [
    "xbgc_7030 = XGBClassifier(random_state = 2020, n_jobs = 14, use_label_encoder=False)\n",
    "xbgc_7030.fit(train_x, train_y)"
   ]
  },
  {
   "cell_type": "code",
   "execution_count": null,
   "metadata": {
    "collapsed": true
   },
   "outputs": [],
   "source": [
    "y = xbgc_7030.predict_proba(test_x)"
   ]
  },
  {
   "cell_type": "code",
   "execution_count": null,
   "metadata": {
    "collapsed": true
   },
   "outputs": [],
   "source": [
    "k = 5\n",
    "y_k = y.argsort(axis=1)[:,-k:]\n",
    "top_k_accuracy_5 = (y_k == test_y.reshape(-1,1)).sum() / len(test_y)\n",
    "\n",
    "k = 1\n",
    "y_k = y.argsort(axis=1)[:,-k:]\n",
    "top_k_accuracy_1 = (y_k == test_y.reshape(-1,1)).sum() / len(test_y)\n",
    "\n",
    "print('XGboost: top_1_accuracy %0.2f , top_5_accuracy %0.2f' % (top_k_accuracy_1 * 100, top_k_accuracy_5 * 100) + '%')"
   ]
  }
 ],
 "metadata": {
  "kernelspec": {
   "display_name": "pytorch",
   "language": "python",
   "name": "pytorch"
  },
  "language_info": {
   "codemirror_mode": {
    "name": "ipython",
    "version": 3
   },
   "file_extension": ".py",
   "mimetype": "text/x-python",
   "name": "python",
   "nbconvert_exporter": "python",
   "pygments_lexer": "ipython3",
   "version": "3.6.12"
  }
 },
 "nbformat": 4,
 "nbformat_minor": 2
}

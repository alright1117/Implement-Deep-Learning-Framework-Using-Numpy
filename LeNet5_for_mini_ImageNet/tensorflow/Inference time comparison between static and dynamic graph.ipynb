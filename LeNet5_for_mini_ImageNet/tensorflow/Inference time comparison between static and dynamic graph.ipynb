{
 "cells": [
  {
   "cell_type": "code",
   "execution_count": 1,
   "id": "25f4ed60",
   "metadata": {},
   "outputs": [],
   "source": [
    "import numpy as np\n",
    "import timeit\n",
    "\n",
    "import tensorflow as tf\n",
    "from tensorflow import keras\n",
    "import matplotlib.pyplot as plt\n",
    "from tensorflow.keras import datasets, losses\n",
    "from tensorflow.keras.callbacks import ModelCheckpoint\n",
    "\n",
    "from dataset import load_data\n",
    "from model import make_model"
   ]
  },
  {
   "cell_type": "markdown",
   "id": "5ccfa45b",
   "metadata": {},
   "source": [
    "# Load Data"
   ]
  },
  {
   "cell_type": "code",
   "execution_count": 2,
   "id": "abdef21c",
   "metadata": {},
   "outputs": [
    {
     "name": "stdout",
     "output_type": "stream",
     "text": [
      "WARNING:tensorflow:AutoGraph could not transform <function load_images at 0x7f0d831365f0> and will run it as-is.\n",
      "Please report this to the TensorFlow team. When filing the bug, set the verbosity to 10 (on Linux, `export AUTOGRAPH_VERBOSITY=10`) and attach the full output.\n",
      "Cause: module 'gast' has no attribute 'Index'\n",
      "To silence this warning, decorate the function with @tf.autograph.experimental.do_not_convert\n",
      "WARNING: AutoGraph could not transform <function load_images at 0x7f0d831365f0> and will run it as-is.\n",
      "Please report this to the TensorFlow team. When filing the bug, set the verbosity to 10 (on Linux, `export AUTOGRAPH_VERBOSITY=10`) and attach the full output.\n",
      "Cause: module 'gast' has no attribute 'Index'\n",
      "To silence this warning, decorate the function with @tf.autograph.experimental.do_not_convert\n"
     ]
    }
   ],
   "source": [
    "path = '/home/alright/DL/hw4/'\n",
    "train_data = load_data(path, 'train').batch(1024)\n",
    "val_data = load_data(path, 'val').batch(1)\n",
    "test_data = load_data(path, 'test').batch(1)"
   ]
  },
  {
   "cell_type": "markdown",
   "id": "9c224fb2",
   "metadata": {},
   "source": [
    "# Inference Time"
   ]
  },
  {
   "cell_type": "code",
   "execution_count": 3,
   "id": "95922bbb",
   "metadata": {},
   "outputs": [
    {
     "name": "stdout",
     "output_type": "stream",
     "text": [
      "Model: \"sequential\"\n",
      "_________________________________________________________________\n",
      "Layer (type)                 Output Shape              Param #   \n",
      "=================================================================\n",
      "conv2d (Conv2D)              (None, 124, 124, 6)       456       \n",
      "_________________________________________________________________\n",
      "average_pooling2d (AveragePo (None, 62, 62, 6)         0         \n",
      "_________________________________________________________________\n",
      "activation (Activation)      (None, 62, 62, 6)         0         \n",
      "_________________________________________________________________\n",
      "conv2d_1 (Conv2D)            (None, 58, 58, 16)        2416      \n",
      "_________________________________________________________________\n",
      "average_pooling2d_1 (Average (None, 29, 29, 16)        0         \n",
      "_________________________________________________________________\n",
      "activation_1 (Activation)    (None, 29, 29, 16)        0         \n",
      "_________________________________________________________________\n",
      "flatten (Flatten)            (None, 13456)             0         \n",
      "_________________________________________________________________\n",
      "dense (Dense)                (None, 120)               1614840   \n",
      "_________________________________________________________________\n",
      "dense_1 (Dense)              (None, 84)                10164     \n",
      "_________________________________________________________________\n",
      "dense_2 (Dense)              (None, 50)                4250      \n",
      "=================================================================\n",
      "Total params: 1,632,126\n",
      "Trainable params: 1,632,126\n",
      "Non-trainable params: 0\n",
      "_________________________________________________________________\n"
     ]
    }
   ],
   "source": [
    "N, D, H, W = 450, 3, 128, 128\n",
    "x = tf.convert_to_tensor(np.random.randn(N, H, W, D), np.float32)\n",
    "y = tf.convert_to_tensor(np.random.randn(N, 1), np.float32)\n",
    "model = make_model()\n",
    "\n",
    "@tf.function\n",
    "def model_static_inference(x, y):\n",
    "    y_pred = model(x)\n",
    "    return y_pred\n",
    "def model_dynamic_inference(x, y):\n",
    "    y_pred = model(x)\n",
    "    return y_pred"
   ]
  },
  {
   "cell_type": "code",
   "execution_count": 5,
   "id": "1e7f9820",
   "metadata": {},
   "outputs": [
    {
     "name": "stdout",
     "output_type": "stream",
     "text": [
      "static graph: 0.14267966500483453\n",
      "dynamic graph: 0.015073418035171926\n"
     ]
    }
   ],
   "source": [
    "print(\"static graph:\", timeit.timeit(lambda: model_static_inference(x, y), number=10))\n",
    "print(\"dynamic graph:\", timeit.timeit(lambda: model_dynamic_inference(x, y), number=10))"
   ]
  },
  {
   "cell_type": "code",
   "execution_count": null,
   "id": "2c16cd3c",
   "metadata": {},
   "outputs": [],
   "source": []
  }
 ],
 "metadata": {
  "kernelspec": {
   "display_name": "tensorflow",
   "language": "python",
   "name": "tensorflow"
  },
  "language_info": {
   "codemirror_mode": {
    "name": "ipython",
    "version": 3
   },
   "file_extension": ".py",
   "mimetype": "text/x-python",
   "name": "python",
   "nbconvert_exporter": "python",
   "pygments_lexer": "ipython3",
   "version": "3.7.10"
  }
 },
 "nbformat": 4,
 "nbformat_minor": 5
}
